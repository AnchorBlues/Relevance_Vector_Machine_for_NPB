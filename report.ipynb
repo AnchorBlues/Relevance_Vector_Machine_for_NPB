{
 "cells": [
  {
   "cell_type": "markdown",
   "metadata": {
    "toc": true
   },
   "source": [
    "<h1>Table of Contents<span class=\"tocSkip\"></span></h1>\n",
    "<div class=\"toc\" style=\"margin-top: 1em;\"><ul class=\"toc-item\"><li><span><a href=\"#現状把握\" data-toc-modified-id=\"現状把握-1\"><span class=\"toc-item-num\">1&nbsp;&nbsp;</span>現状把握</a></span></li><li><span><a href=\"#データ取得\" data-toc-modified-id=\"データ取得-2\"><span class=\"toc-item-num\">2&nbsp;&nbsp;</span>データ取得</a></span></li><li><span><a href=\"#RVMモデルの作成\" data-toc-modified-id=\"RVMモデルの作成-3\"><span class=\"toc-item-num\">3&nbsp;&nbsp;</span>RVMモデルの作成</a></span></li><li><span><a href=\"#学習\" data-toc-modified-id=\"学習-4\"><span class=\"toc-item-num\">4&nbsp;&nbsp;</span>学習</a></span></li><li><span><a href=\"#学習結果\" data-toc-modified-id=\"学習結果-5\"><span class=\"toc-item-num\">5&nbsp;&nbsp;</span>学習結果</a></span></li><li><span><a href=\"#予測結果\" data-toc-modified-id=\"予測結果-6\"><span class=\"toc-item-num\">6&nbsp;&nbsp;</span>予測結果</a></span></li></ul></div>"
   ]
  },
  {
   "cell_type": "code",
   "execution_count": 1,
   "metadata": {
    "ExecuteTime": {
     "end_time": "2018-05-16T08:46:18.891311Z",
     "start_time": "2018-05-16T08:46:18.888296Z"
    }
   },
   "outputs": [],
   "source": [
    "import pandas as pd\n",
    "import seaborn as sns\n",
    "import matplotlib.pyplot as plt\n",
    "\n",
    "plt.rcParams['font.size'] = 20"
   ]
  },
  {
   "cell_type": "markdown",
   "metadata": {},
   "source": [
    "# 現状把握"
   ]
  },
  {
   "cell_type": "code",
   "execution_count": 2,
   "metadata": {
    "ExecuteTime": {
     "end_time": "2018-05-16T08:46:19.646811Z",
     "start_time": "2018-05-16T08:46:18.894025Z"
    }
   },
   "outputs": [
    {
     "name": "stdout",
     "output_type": "stream",
     "text": [
      "year :  2018\n"
     ]
    },
    {
     "data": {
      "text/html": [
       "<div>\n",
       "<style scoped>\n",
       "    .dataframe tbody tr th:only-of-type {\n",
       "        vertical-align: middle;\n",
       "    }\n",
       "\n",
       "    .dataframe tbody tr th {\n",
       "        vertical-align: top;\n",
       "    }\n",
       "\n",
       "    .dataframe thead th {\n",
       "        text-align: right;\n",
       "    }\n",
       "</style>\n",
       "<table border=\"1\" class=\"dataframe\">\n",
       "  <thead>\n",
       "    <tr style=\"text-align: right;\">\n",
       "      <th></th>\n",
       "      <th>打率</th>\n",
       "      <th>出塁率</th>\n",
       "      <th>長打率</th>\n",
       "      <th>得点</th>\n",
       "      <th>得点(1試合あたり)</th>\n",
       "    </tr>\n",
       "    <tr>\n",
       "      <th>チーム</th>\n",
       "      <th></th>\n",
       "      <th></th>\n",
       "      <th></th>\n",
       "      <th></th>\n",
       "      <th></th>\n",
       "    </tr>\n",
       "  </thead>\n",
       "  <tbody>\n",
       "    <tr>\n",
       "      <th>西武</th>\n",
       "      <td>0.284</td>\n",
       "      <td>0.364</td>\n",
       "      <td>0.446</td>\n",
       "      <td>212</td>\n",
       "      <td>5.888889</td>\n",
       "    </tr>\n",
       "    <tr>\n",
       "      <th>巨人</th>\n",
       "      <td>0.275</td>\n",
       "      <td>0.355</td>\n",
       "      <td>0.406</td>\n",
       "      <td>181</td>\n",
       "      <td>4.891892</td>\n",
       "    </tr>\n",
       "    <tr>\n",
       "      <th>広島</th>\n",
       "      <td>0.259</td>\n",
       "      <td>0.350</td>\n",
       "      <td>0.421</td>\n",
       "      <td>177</td>\n",
       "      <td>4.916667</td>\n",
       "    </tr>\n",
       "    <tr>\n",
       "      <th>中日</th>\n",
       "      <td>0.257</td>\n",
       "      <td>0.321</td>\n",
       "      <td>0.369</td>\n",
       "      <td>149</td>\n",
       "      <td>4.027027</td>\n",
       "    </tr>\n",
       "    <tr>\n",
       "      <th>ヤクルト</th>\n",
       "      <td>0.252</td>\n",
       "      <td>0.349</td>\n",
       "      <td>0.388</td>\n",
       "      <td>161</td>\n",
       "      <td>4.472222</td>\n",
       "    </tr>\n",
       "    <tr>\n",
       "      <th>ソフトバンク</th>\n",
       "      <td>0.251</td>\n",
       "      <td>0.317</td>\n",
       "      <td>0.430</td>\n",
       "      <td>154</td>\n",
       "      <td>4.400000</td>\n",
       "    </tr>\n",
       "    <tr>\n",
       "      <th>ロッテ</th>\n",
       "      <td>0.246</td>\n",
       "      <td>0.326</td>\n",
       "      <td>0.350</td>\n",
       "      <td>147</td>\n",
       "      <td>4.200000</td>\n",
       "    </tr>\n",
       "    <tr>\n",
       "      <th>DeNA</th>\n",
       "      <td>0.240</td>\n",
       "      <td>0.293</td>\n",
       "      <td>0.378</td>\n",
       "      <td>126</td>\n",
       "      <td>3.705882</td>\n",
       "    </tr>\n",
       "    <tr>\n",
       "      <th>日本ハム</th>\n",
       "      <td>0.231</td>\n",
       "      <td>0.314</td>\n",
       "      <td>0.382</td>\n",
       "      <td>136</td>\n",
       "      <td>3.675676</td>\n",
       "    </tr>\n",
       "    <tr>\n",
       "      <th>阪神</th>\n",
       "      <td>0.228</td>\n",
       "      <td>0.310</td>\n",
       "      <td>0.324</td>\n",
       "      <td>112</td>\n",
       "      <td>3.294118</td>\n",
       "    </tr>\n",
       "    <tr>\n",
       "      <th>楽天</th>\n",
       "      <td>0.227</td>\n",
       "      <td>0.287</td>\n",
       "      <td>0.336</td>\n",
       "      <td>111</td>\n",
       "      <td>3.083333</td>\n",
       "    </tr>\n",
       "    <tr>\n",
       "      <th>オリックス</th>\n",
       "      <td>0.221</td>\n",
       "      <td>0.295</td>\n",
       "      <td>0.340</td>\n",
       "      <td>131</td>\n",
       "      <td>3.358974</td>\n",
       "    </tr>\n",
       "  </tbody>\n",
       "</table>\n",
       "</div>"
      ],
      "text/plain": [
       "           打率    出塁率    長打率   得点  得点(1試合あたり)\n",
       "チーム                                         \n",
       "西武      0.284  0.364  0.446  212    5.888889\n",
       "巨人      0.275  0.355  0.406  181    4.891892\n",
       "広島      0.259  0.350  0.421  177    4.916667\n",
       "中日      0.257  0.321  0.369  149    4.027027\n",
       "ヤクルト    0.252  0.349  0.388  161    4.472222\n",
       "ソフトバンク  0.251  0.317  0.430  154    4.400000\n",
       "ロッテ     0.246  0.326  0.350  147    4.200000\n",
       "DeNA    0.240  0.293  0.378  126    3.705882\n",
       "日本ハム    0.231  0.314  0.382  136    3.675676\n",
       "阪神      0.228  0.310  0.324  112    3.294118\n",
       "楽天      0.227  0.287  0.336  111    3.083333\n",
       "オリックス   0.221  0.295  0.340  131    3.358974"
      ]
     },
     "execution_count": 2,
     "metadata": {},
     "output_type": "execute_result"
    }
   ],
   "source": [
    "year = 2018\n",
    "lst_of_df_2018 = []\n",
    "print(\"year : \", year)\n",
    "for league in ['p', 'c']:\n",
    "    url = 'http://npb.jp/bis/'+str(year)+'/stats/tmb_'+league+'.html'\n",
    "    lst_of_df_2018.append(pd.read_html(url, header=0)[0])\n",
    "        \n",
    "df_2018 = pd.concat(lst_of_df_2018).reset_index(drop=True)\n",
    "\n",
    "\n",
    "# カラム名変更# カラム名変更\n",
    "df_2018.columns = list(map(lambda v : v.replace(\"\\u3000\", \"\"), df_2018.columns))\n",
    "# チーム名変更\n",
    "df_2018['チーム'] = list(map(lambda v : v.replace(\"\\u3000\", \"\").replace(\" \", \"\"), df_2018['チーム']))\n",
    "\n",
    "df_2018 = df_2018.set_index(\"チーム\").apply(pd.to_numeric)\n",
    "\n",
    "df_2018['得点(1試合あたり)'] = df_2018['得点'] / df_2018['試合']\n",
    "\n",
    "df_2018[[\n",
    "    '打率',\n",
    "    '出塁率',\n",
    "    '長打率',\n",
    "    '得点', \n",
    "    '得点(1試合あたり)'\n",
    "]].sort_values(by='打率', ascending=False)"
   ]
  },
  {
   "cell_type": "code",
   "execution_count": 3,
   "metadata": {
    "ExecuteTime": {
     "end_time": "2018-05-16T08:46:19.840761Z",
     "start_time": "2018-05-16T08:46:19.649066Z"
    },
    "scrolled": false
   },
   "outputs": [
    {
     "data": {
      "text/plain": [
       "<matplotlib.axes._subplots.AxesSubplot at 0x7fbb4b779048>"
      ]
     },
     "execution_count": 3,
     "metadata": {},
     "output_type": "execute_result"
    },
    {
     "data": {
      "image/png": "[encoded data removed]",
      "text/plain": [
       "<Figure size 432x288 with 1 Axes>"
      ]
     },
     "metadata": {},
     "output_type": "display_data"
    }
   ],
   "source": [
    "sns.regplot(x='打率', y='得点(1試合あたり)', data=df_2018)"
   ]
  },
  {
   "cell_type": "markdown",
   "metadata": {},
   "source": [
    "この時点で、打率の上に結構乗っているんだよな。  \n",
    "世間は、このような図を見て、「チーム打率が高いほどチーム得点は多い」と思いこんでしまっている。  \n",
    "でもそれは嘘だ、という話をします。"
   ]
  },
  {
   "cell_type": "markdown",
   "metadata": {},
   "source": [
    "# データ取得"
   ]
  },
  {
   "cell_type": "code",
   "execution_count": 4,
   "metadata": {
    "ExecuteTime": {
     "end_time": "2018-05-16T08:46:25.393404Z",
     "start_time": "2018-05-16T08:46:19.842131Z"
    }
   },
   "outputs": [
    {
     "name": "stdout",
     "output_type": "stream",
     "text": [
      "year :  2005\n",
      "year :  2006\n",
      "year :  2007\n",
      "year :  2008\n",
      "year :  2009\n",
      "year :  2010\n",
      "year :  2011\n",
      "year :  2012\n",
      "year :  2013\n",
      "year :  2014\n",
      "year :  2015\n",
      "year :  2016\n",
      "year :  2017\n"
     ]
    },
    {
     "data": {
      "text/html": [
       "<div>\n",
       "<style scoped>\n",
       "    .dataframe tbody tr th:only-of-type {\n",
       "        vertical-align: middle;\n",
       "    }\n",
       "\n",
       "    .dataframe tbody tr th {\n",
       "        vertical-align: top;\n",
       "    }\n",
       "\n",
       "    .dataframe thead th {\n",
       "        text-align: right;\n",
       "    }\n",
       "</style>\n",
       "<table border=\"1\" class=\"dataframe\">\n",
       "  <thead>\n",
       "    <tr style=\"text-align: right;\">\n",
       "      <th></th>\n",
       "      <th>チーム</th>\n",
       "      <th>打率</th>\n",
       "      <th>試合</th>\n",
       "      <th>打席</th>\n",
       "      <th>打数</th>\n",
       "      <th>得点</th>\n",
       "      <th>安打</th>\n",
       "      <th>二塁打</th>\n",
       "      <th>三塁打</th>\n",
       "      <th>本塁打</th>\n",
       "      <th>...</th>\n",
       "      <th>盗塁刺</th>\n",
       "      <th>犠打</th>\n",
       "      <th>犠飛</th>\n",
       "      <th>四球</th>\n",
       "      <th>故意四</th>\n",
       "      <th>死球</th>\n",
       "      <th>三振</th>\n",
       "      <th>併殺打</th>\n",
       "      <th>長打率</th>\n",
       "      <th>出塁率</th>\n",
       "    </tr>\n",
       "  </thead>\n",
       "  <tbody>\n",
       "    <tr>\n",
       "      <th>0</th>\n",
       "      <td>ロッテ</td>\n",
       "      <td>0.282</td>\n",
       "      <td>136</td>\n",
       "      <td>5313</td>\n",
       "      <td>4730</td>\n",
       "      <td>740</td>\n",
       "      <td>1336</td>\n",
       "      <td>278</td>\n",
       "      <td>34</td>\n",
       "      <td>143</td>\n",
       "      <td>...</td>\n",
       "      <td>48</td>\n",
       "      <td>56</td>\n",
       "      <td>39</td>\n",
       "      <td>438</td>\n",
       "      <td>13</td>\n",
       "      <td>50</td>\n",
       "      <td>902</td>\n",
       "      <td>93</td>\n",
       "      <td>0.446</td>\n",
       "      <td>0.347</td>\n",
       "    </tr>\n",
       "    <tr>\n",
       "      <th>1</th>\n",
       "      <td>ソフトバンク</td>\n",
       "      <td>0.281</td>\n",
       "      <td>136</td>\n",
       "      <td>5181</td>\n",
       "      <td>4624</td>\n",
       "      <td>658</td>\n",
       "      <td>1300</td>\n",
       "      <td>225</td>\n",
       "      <td>23</td>\n",
       "      <td>172</td>\n",
       "      <td>...</td>\n",
       "      <td>42</td>\n",
       "      <td>86</td>\n",
       "      <td>36</td>\n",
       "      <td>356</td>\n",
       "      <td>22</td>\n",
       "      <td>77</td>\n",
       "      <td>818</td>\n",
       "      <td>114</td>\n",
       "      <td>0.451</td>\n",
       "      <td>0.340</td>\n",
       "    </tr>\n",
       "    <tr>\n",
       "      <th>2</th>\n",
       "      <td>西武</td>\n",
       "      <td>0.269</td>\n",
       "      <td>136</td>\n",
       "      <td>5215</td>\n",
       "      <td>4611</td>\n",
       "      <td>604</td>\n",
       "      <td>1240</td>\n",
       "      <td>234</td>\n",
       "      <td>18</td>\n",
       "      <td>162</td>\n",
       "      <td>...</td>\n",
       "      <td>28</td>\n",
       "      <td>88</td>\n",
       "      <td>26</td>\n",
       "      <td>437</td>\n",
       "      <td>35</td>\n",
       "      <td>52</td>\n",
       "      <td>926</td>\n",
       "      <td>112</td>\n",
       "      <td>0.433</td>\n",
       "      <td>0.337</td>\n",
       "    </tr>\n",
       "    <tr>\n",
       "      <th>3</th>\n",
       "      <td>オリックス</td>\n",
       "      <td>0.260</td>\n",
       "      <td>136</td>\n",
       "      <td>5166</td>\n",
       "      <td>4616</td>\n",
       "      <td>527</td>\n",
       "      <td>1202</td>\n",
       "      <td>202</td>\n",
       "      <td>17</td>\n",
       "      <td>97</td>\n",
       "      <td>...</td>\n",
       "      <td>26</td>\n",
       "      <td>97</td>\n",
       "      <td>32</td>\n",
       "      <td>376</td>\n",
       "      <td>10</td>\n",
       "      <td>45</td>\n",
       "      <td>835</td>\n",
       "      <td>93</td>\n",
       "      <td>0.375</td>\n",
       "      <td>0.320</td>\n",
       "    </tr>\n",
       "    <tr>\n",
       "      <th>4</th>\n",
       "      <td>楽天</td>\n",
       "      <td>0.255</td>\n",
       "      <td>136</td>\n",
       "      <td>5068</td>\n",
       "      <td>4577</td>\n",
       "      <td>504</td>\n",
       "      <td>1166</td>\n",
       "      <td>209</td>\n",
       "      <td>16</td>\n",
       "      <td>88</td>\n",
       "      <td>...</td>\n",
       "      <td>34</td>\n",
       "      <td>70</td>\n",
       "      <td>30</td>\n",
       "      <td>347</td>\n",
       "      <td>5</td>\n",
       "      <td>44</td>\n",
       "      <td>919</td>\n",
       "      <td>124</td>\n",
       "      <td>0.365</td>\n",
       "      <td>0.312</td>\n",
       "    </tr>\n",
       "  </tbody>\n",
       "</table>\n",
       "<p>5 rows × 23 columns</p>\n",
       "</div>"
      ],
      "text/plain": [
       "      チーム     打率   試合    打席    打数   得点    安打  二塁打  三塁打  本塁打  ...    盗塁刺  犠打  \\\n",
       "0     ロッテ  0.282  136  5313  4730  740  1336  278   34  143  ...     48  56   \n",
       "1  ソフトバンク  0.281  136  5181  4624  658  1300  225   23  172  ...     42  86   \n",
       "2      西武  0.269  136  5215  4611  604  1240  234   18  162  ...     28  88   \n",
       "3   オリックス  0.260  136  5166  4616  527  1202  202   17   97  ...     26  97   \n",
       "4      楽天  0.255  136  5068  4577  504  1166  209   16   88  ...     34  70   \n",
       "\n",
       "   犠飛   四球  故意四  死球   三振  併殺打    長打率    出塁率  \n",
       "0  39  438   13  50  902   93  0.446  0.347  \n",
       "1  36  356   22  77  818  114  0.451  0.340  \n",
       "2  26  437   35  52  926  112  0.433  0.337  \n",
       "3  32  376   10  45  835   93  0.375  0.320  \n",
       "4  30  347    5  44  919  124  0.365  0.312  \n",
       "\n",
       "[5 rows x 23 columns]"
      ]
     },
     "execution_count": 4,
     "metadata": {},
     "output_type": "execute_result"
    }
   ],
   "source": [
    "yrange = range(2005, 2017 + 1)\n",
    "\n",
    "lst_of_df = []\n",
    "for year in yrange:\n",
    "    print(\"year : \", year)\n",
    "    for league in ['p', 'c']:\n",
    "        url = 'http://npb.jp/bis/'+str(year)+'/stats/tmb_'+league+'.html'\n",
    "        lst_of_df.append(pd.read_html(url, header=0)[0])\n",
    "\n",
    "df = pd.concat(lst_of_df).set_index(\"チーム\").apply(pd.to_numeric).reset_index()\n",
    "\n",
    "\n",
    "# カラム名変更# カラム名変更\n",
    "df.columns = list(map(lambda v : v.replace(\"\\u3000\", \"\"), df.columns))\n",
    "# チーム名変更\n",
    "df['チーム'] = list(map(lambda v : v.replace(\"\\u3000\", \"\").replace(\" \", \"\"), df['チーム']))\n",
    "\n",
    "df.loc[df['チーム'] == '横浜', 'チーム'] = '横浜(DeNA)'\n",
    "df.loc[df['チーム'] == 'DeNA', 'チーム'] = '横浜(DeNA)'\n",
    "\n",
    "df.head()"
   ]
  },
  {
   "cell_type": "markdown",
   "metadata": {},
   "source": [
    "# RVMモデルの作成"
   ]
  },
  {
   "cell_type": "code",
   "execution_count": 5,
   "metadata": {
    "ExecuteTime": {
     "end_time": "2018-05-16T08:46:25.397919Z",
     "start_time": "2018-05-16T08:46:25.395305Z"
    }
   },
   "outputs": [],
   "source": [
    "def mean_squared_error(y, t):\n",
    "    return np.mean((y - t)**2)\n",
    "\n",
    "def rmse(y, t):\n",
    "    return np.sqrt(np.mean((y - t) ** 2))"
   ]
  },
  {
   "cell_type": "code",
   "execution_count": 6,
   "metadata": {
    "ExecuteTime": {
     "end_time": "2018-05-16T08:46:25.539412Z",
     "start_time": "2018-05-16T08:46:25.399767Z"
    }
   },
   "outputs": [],
   "source": [
    "from abc import ABCMeta, abstractmethod\n",
    "\n",
    "class MachineLearningModel(metaclass=ABCMeta):\n",
    "    @abstractmethod\n",
    "    def fit(self, data, target, **kwargs):\n",
    "        # モデルの学習関数\n",
    "        pass\n",
    "\n",
    "    @abstractmethod\n",
    "    def predict(self, data, **kwargs):\n",
    "        # モデルの予測関数\n",
    "        pass\n",
    "\n",
    "    \n",
    "class RegressionModel(MachineLearningModel):\n",
    "    \"\"\"\n",
    "    回帰モデル。GLMでいうところの、「指数型分布:ガウス分布」に対応するモデル。\n",
    "    \"\"\"\n",
    "\n",
    "    @abstractmethod\n",
    "    def _forward(self, data):\n",
    "        pass\n",
    "\n",
    "    def predict(self, data):\n",
    "        return self._forward(data)\n",
    "\n",
    "    def rmse(self, data, target):\n",
    "        # 第2引数であるargsは完全に無視される。\n",
    "        # TwoLayerNetのモニタ関数であるaccuracy関数と引数の数を合わせるため。\n",
    "        y = self.predict(data)\n",
    "        return rmse(y, target)\n",
    "\n",
    "    def loss(self, data, target):\n",
    "        y = self.predict(data)\n",
    "        return mean_squared_error(y, target)"
   ]
  },
  {
   "cell_type": "code",
   "execution_count": 7,
   "metadata": {
    "ExecuteTime": {
     "end_time": "2018-05-16T08:46:25.731010Z",
     "start_time": "2018-05-16T08:46:25.541705Z"
    }
   },
   "outputs": [],
   "source": [
    "class RelevanceVectorMachine(RegressionModel):\n",
    "    def __init__(self, initial_alpha=1e-2, initial_beta=1e-2):\n",
    "        self.alpha = initial_alpha\n",
    "        self.beta = initial_beta\n",
    "        self.inf = 1e10  # この値より大きくなったら、無限大とみなす。\n",
    "        self.Cov = None\n",
    "        self.m = None\n",
    "        self.bool_arr_for_pred = None\n",
    "        self.Phi = None\n",
    "        self.M = None\n",
    "        self._PhiTPhi = None\n",
    "        self.itr = None\n",
    "\n",
    "    def _update_mean_and_cov(self, target):\n",
    "        A = np.diag(self.alpha)\n",
    "        self.Cov = np.linalg.inv(A + self.beta * self._PhiTPhi)\n",
    "        self.m = self.beta * self.Cov @ self.Phi.T @ target\n",
    "\n",
    "    def _update_alphabeta(self, target, N):\n",
    "        gamma = 1 - self.alpha * np.diag(self.Cov)\n",
    "        self.beta = (N - np.sum(gamma)) / \\\n",
    "            np.sum((target - self.Phi @ self.m)**2)\n",
    "\n",
    "        self.alpha = gamma / (self.m ** 2)\n",
    "\n",
    "    def _remove_inf(self, verbose):\n",
    "        \"\"\"\n",
    "\n",
    "        alphaが無限大に飛んだときそこに対応する特徴量を削減する\n",
    "\n",
    "        \"\"\"\n",
    "\n",
    "        bool_arr = self.alpha <= self.inf\n",
    "        if np.sum(bool_arr) == self.M:\n",
    "            # どのalphaも無限大に飛ばなかったとき、そのまま\n",
    "            return\n",
    "\n",
    "        # 無限大に飛ばなかったものだけを残す\n",
    "        self.alpha = self.alpha[bool_arr]\n",
    "        self.Phi = self.Phi.T[bool_arr].T\n",
    "        self.Cov = self.Cov[bool_arr].T[bool_arr].T\n",
    "        self._PhiTPhi = self.Phi.T @ self.Phi\n",
    "        self.m = self.m[bool_arr]\n",
    "\n",
    "        # 予測のためのbool_arrをかきなおす。\n",
    "        # bool_arrは、無限に飛んだ特徴量が出るたびにsizeが小さくなってしまうので、\n",
    "        # 新規にデータに対して予測を行うために、\n",
    "        # sizeが維持された配列をもうひとつ用意する必要がある。それがbool_arr_for_pred\n",
    "        assert len(bool_arr) == np.sum(self.bool_arr_for_pred)\n",
    "        # where : bool_arr_for_predの中で、未だにTrueである要素のインデックス\n",
    "        where = np.where(self.bool_arr_for_pred)[0]\n",
    "\n",
    "        # for i in range(self.M):\n",
    "        #     if not bool_arr[i]:\n",
    "        #         self.bool_arr_for_pred[where[i]] = False\n",
    "        #         if verbose:\n",
    "        #             print(where[i], \"番目の要素が削除されました\")\n",
    "        # 上記のfor loopありのコードを最適化すると以下のとおりになる。\n",
    "        ind = where[np.arange(self.M)[np.logical_not(bool_arr)]]\n",
    "        self.bool_arr_for_pred[ind] = False\n",
    "        if verbose:\n",
    "            for i in ind:\n",
    "                print(i, \"番目の要素が削除されました\")\n",
    "\n",
    "        self.M = np.sum(bool_arr).astype(int)\n",
    "\n",
    "    def fit(self, data, target, patience=1e-4, random_state=None, verbose=False):\n",
    "        \"\"\"\n",
    "        Nがデータ数。\n",
    "        self.Mが特徴量の数。\n",
    "        \"\"\"\n",
    "\n",
    "        if random_state is not None:\n",
    "            np.random.seed(random_state)\n",
    "\n",
    "        # 切片を加えます。\n",
    "        self.Phi = np.c_[np.array(data), np.ones(len(data))]\n",
    "        self._PhiTPhi = self.Phi.T @ self.Phi\n",
    "        N = len(data)\n",
    "        self.M = self.Phi.shape[1]\n",
    "        self.alpha = np.ones(self.M) * self.alpha\n",
    "        self.Cov = np.random.randn(self.M, self.M)\n",
    "        self.m = np.random.randn(self.M)\n",
    "        self.bool_arr_for_pred = np.ones(self.M).astype(bool)\n",
    "        self.itr = 0\n",
    "\n",
    "        while True:\n",
    "            prev_beta = self.beta\n",
    "            self._update_alphabeta(target, N)\n",
    "            self._update_mean_and_cov(target)\n",
    "            self._remove_inf(verbose)\n",
    "            self.itr += 1\n",
    "            if abs(self.beta - prev_beta) < patience:\n",
    "                # betaが収束した時に\n",
    "                break\n",
    "\n",
    "    def _forward(self, data):\n",
    "        # 切片を加えます。\n",
    "        Phi = np.c_[np.array(data), np.ones(len(data))]\n",
    "        return Phi.T[self.bool_arr_for_pred].T @ self.m"
   ]
  },
  {
   "cell_type": "markdown",
   "metadata": {},
   "source": [
    "# 学習"
   ]
  },
  {
   "cell_type": "code",
   "execution_count": 8,
   "metadata": {
    "ExecuteTime": {
     "end_time": "2018-05-16T08:46:25.912605Z",
     "start_time": "2018-05-16T08:46:25.734381Z"
    }
   },
   "outputs": [],
   "source": [
    "from sklearn.model_selection import train_test_split\n",
    "\n",
    "# データの取得\n",
    "x_cols = [\n",
    "    '打率',\n",
    "    '出塁率',\n",
    "    '長打率',\n",
    "    '犠打',\n",
    "    '盗塁',\n",
    "    '本塁打'\n",
    "]\n",
    "datax = df.loc[:, x_cols]\n",
    "datat = df['得点']\n",
    "x_train, x_test, y_train, y_test = train_test_split(\n",
    "    datax, datat, test_size=0.25, random_state=1)\n",
    "\n",
    "x_train = x_train\n",
    "x_test = x_test\n",
    "\n",
    "y_train = np.array(y_train)\n",
    "y_test = np.array(y_test)"
   ]
  },
  {
   "cell_type": "code",
   "execution_count": 9,
   "metadata": {
    "ExecuteTime": {
     "end_time": "2018-05-16T08:46:26.019786Z",
     "start_time": "2018-05-16T08:46:25.914217Z"
    }
   },
   "outputs": [
    {
     "name": "stdout",
     "output_type": "stream",
     "text": [
      "0 番目の要素が削除されました\n",
      "出塁率 0.000000\n",
      "長打率 0.000001\n",
      "犠打 1264.965992\n",
      "盗塁 36.137813\n",
      "本塁打 5.498206\n",
      "intercept 0.000002\n",
      "\n",
      "rmse: 21.739688524489146\n",
      "iteration n: 87\n",
      "\n"
     ]
    }
   ],
   "source": [
    "# モデルによる予測\n",
    "inf = 1e10\n",
    "model = RelevanceVectorMachine()\n",
    "model.inf = inf\n",
    "model.fit(x_train, y_train, random_state=0,\n",
    "          patience=1e-10, verbose=True)\n",
    "y_pred = model.predict(x_test)\n",
    "\n",
    "# 予測結果の出力\n",
    "x_cols_with_intercept = np.array(x_cols + ['intercept'])\n",
    "for u, v in zip(x_cols_with_intercept[model.bool_arr_for_pred], model.alpha):\n",
    "    print(u, \"{0:04f}\".format(v))\n",
    "\n",
    "rmse_ = model.rmse(x_test, y_test)\n",
    "print(\"\")\n",
    "print(\"rmse:\", rmse_)\n",
    "print(\"iteration n:\", model.itr)\n",
    "print(\"\")\n"
   ]
  },
  {
   "cell_type": "markdown",
   "metadata": {},
   "source": [
    "m(wの事後分布の平均)の値は"
   ]
  },
  {
   "cell_type": "code",
   "execution_count": 10,
   "metadata": {
    "ExecuteTime": {
     "end_time": "2018-05-16T08:46:26.154254Z",
     "start_time": "2018-05-16T08:46:26.023505Z"
    }
   },
   "outputs": [
    {
     "data": {
      "text/plain": [
       "array([ 2.83913557e+03,  9.22033322e+02, -8.35544379e-03,  1.48728221e-01,\n",
       "        3.90689421e-01, -7.55729924e+02])"
      ]
     },
     "execution_count": 10,
     "metadata": {},
     "output_type": "execute_result"
    }
   ],
   "source": [
    "model.m"
   ]
  },
  {
   "cell_type": "markdown",
   "metadata": {},
   "source": [
    "わかりやすく、1試合あたり(小数点第2位まで)"
   ]
  },
  {
   "cell_type": "code",
   "execution_count": 11,
   "metadata": {
    "ExecuteTime": {
     "end_time": "2018-05-16T08:46:26.274401Z",
     "start_time": "2018-05-16T08:46:26.155910Z"
    }
   },
   "outputs": [
    {
     "data": {
      "text/plain": [
       "array([19.85,  6.45, -0.  ,  0.  ,  0.  , -5.28])"
      ]
     },
     "execution_count": 11,
     "metadata": {},
     "output_type": "execute_result"
    }
   ],
   "source": [
    "np.round(model.m / 143, decimals=2)"
   ]
  },
  {
   "cell_type": "markdown",
   "metadata": {},
   "source": [
    "# 学習結果\n",
    "wの値の棒グラフ"
   ]
  },
  {
   "cell_type": "code",
   "execution_count": 12,
   "metadata": {
    "ExecuteTime": {
     "end_time": "2018-05-16T08:46:27.155624Z",
     "start_time": "2018-05-16T08:46:26.277044Z"
    }
   },
   "outputs": [
    {
     "data": {
      "image/png": "[encoded data removed]",
      "text/plain": [
       "<Figure size 1080x432 with 1 Axes>"
      ]
     },
     "metadata": {},
     "output_type": "display_data"
    },
    {
     "data": {
      "image/png": "[encoded data removed]",
      "text/plain": [
       "<Figure size 1080x432 with 1 Axes>"
      ]
     },
     "metadata": {},
     "output_type": "display_data"
    }
   ],
   "source": [
    "from collections import OrderedDict\n",
    "df_fet = pd.DataFrame(OrderedDict({'m': model.m[:-1], 'alpha': model.alpha[:-1]}))\n",
    "df_fet.index = np.array(x_cols)[model.bool_arr_for_pred[:-1]]\n",
    "df_fet.columns = ['m', 'alpha']\n",
    "\n",
    "for var in ['m', 'alpha']:\n",
    "    plt.figure(figsize=(15,6))\n",
    "    df_fet[var].plot.bar()\n",
    "    plt.title(\"各特徴量の\"+var+\"の値\")\n",
    "    plt.ylabel(var)\n",
    "    plt.yscale('log')\n",
    "    plt.show()"
   ]
  },
  {
   "cell_type": "markdown",
   "metadata": {},
   "source": [
    "# 予測結果"
   ]
  },
  {
   "cell_type": "markdown",
   "metadata": {},
   "source": [
    "予測精度を見る"
   ]
  },
  {
   "cell_type": "code",
   "execution_count": 13,
   "metadata": {
    "ExecuteTime": {
     "end_time": "2018-05-16T08:46:27.161016Z",
     "start_time": "2018-05-16T08:46:27.157371Z"
    }
   },
   "outputs": [
    {
     "data": {
      "text/plain": [
       "21.739688524489146"
      ]
     },
     "execution_count": 13,
     "metadata": {},
     "output_type": "execute_result"
    }
   ],
   "source": [
    "y_pred = model.predict(x_test)\n",
    "rmse(y_pred, y_test)"
   ]
  },
  {
   "cell_type": "markdown",
   "metadata": {},
   "source": [
    "RMSEは21.7という結果になった。  \n",
    "他の線形回帰と同程度の結果(下記参照)。"
   ]
  },
  {
   "cell_type": "code",
   "execution_count": 14,
   "metadata": {
    "ExecuteTime": {
     "end_time": "2018-05-16T08:46:28.360799Z",
     "start_time": "2018-05-16T08:46:27.162893Z"
    }
   },
   "outputs": [
    {
     "name": "stdout",
     "output_type": "stream",
     "text": [
      "********* model: RidgeCV ************\n",
      "rmse: 20.93864384740071\n"
     ]
    },
    {
     "data": {
      "text/html": [
       "<div>\n",
       "<style scoped>\n",
       "    .dataframe tbody tr th:only-of-type {\n",
       "        vertical-align: middle;\n",
       "    }\n",
       "\n",
       "    .dataframe tbody tr th {\n",
       "        vertical-align: top;\n",
       "    }\n",
       "\n",
       "    .dataframe thead th {\n",
       "        text-align: right;\n",
       "    }\n",
       "</style>\n",
       "<table border=\"1\" class=\"dataframe\">\n",
       "  <thead>\n",
       "    <tr style=\"text-align: right;\">\n",
       "      <th></th>\n",
       "      <th>打率</th>\n",
       "      <th>出塁率</th>\n",
       "      <th>長打率</th>\n",
       "      <th>犠打</th>\n",
       "      <th>盗塁</th>\n",
       "      <th>本塁打</th>\n",
       "    </tr>\n",
       "  </thead>\n",
       "  <tbody>\n",
       "    <tr>\n",
       "      <th>0</th>\n",
       "      <td>277.358325</td>\n",
       "      <td>2539.083505</td>\n",
       "      <td>839.93496</td>\n",
       "      <td>-0.092203</td>\n",
       "      <td>0.214686</td>\n",
       "      <td>0.449271</td>\n",
       "    </tr>\n",
       "  </tbody>\n",
       "</table>\n",
       "</div>"
      ],
      "text/plain": [
       "           打率          出塁率        長打率        犠打        盗塁       本塁打\n",
       "0  277.358325  2539.083505  839.93496 -0.092203  0.214686  0.449271"
      ]
     },
     "metadata": {},
     "output_type": "display_data"
    },
    {
     "name": "stdout",
     "output_type": "stream",
     "text": [
      "********* model: LassoCV ************\n",
      "rmse: 21.05123145927037\n"
     ]
    },
    {
     "data": {
      "text/html": [
       "<div>\n",
       "<style scoped>\n",
       "    .dataframe tbody tr th:only-of-type {\n",
       "        vertical-align: middle;\n",
       "    }\n",
       "\n",
       "    .dataframe tbody tr th {\n",
       "        vertical-align: top;\n",
       "    }\n",
       "\n",
       "    .dataframe thead th {\n",
       "        text-align: right;\n",
       "    }\n",
       "</style>\n",
       "<table border=\"1\" class=\"dataframe\">\n",
       "  <thead>\n",
       "    <tr style=\"text-align: right;\">\n",
       "      <th></th>\n",
       "      <th>打率</th>\n",
       "      <th>出塁率</th>\n",
       "      <th>長打率</th>\n",
       "      <th>犠打</th>\n",
       "      <th>盗塁</th>\n",
       "      <th>本塁打</th>\n",
       "    </tr>\n",
       "  </thead>\n",
       "  <tbody>\n",
       "    <tr>\n",
       "      <th>0</th>\n",
       "      <td>0.0</td>\n",
       "      <td>2877.333916</td>\n",
       "      <td>821.378631</td>\n",
       "      <td>-0.095615</td>\n",
       "      <td>0.207108</td>\n",
       "      <td>0.451416</td>\n",
       "    </tr>\n",
       "  </tbody>\n",
       "</table>\n",
       "</div>"
      ],
      "text/plain": [
       "    打率          出塁率         長打率        犠打        盗塁       本塁打\n",
       "0  0.0  2877.333916  821.378631 -0.095615  0.207108  0.451416"
      ]
     },
     "metadata": {},
     "output_type": "display_data"
    },
    {
     "name": "stdout",
     "output_type": "stream",
     "text": [
      "********* model: ElasticNetCV ************\n",
      "rmse: 30.10737832183287\n"
     ]
    },
    {
     "data": {
      "text/html": [
       "<div>\n",
       "<style scoped>\n",
       "    .dataframe tbody tr th:only-of-type {\n",
       "        vertical-align: middle;\n",
       "    }\n",
       "\n",
       "    .dataframe tbody tr th {\n",
       "        vertical-align: top;\n",
       "    }\n",
       "\n",
       "    .dataframe thead th {\n",
       "        text-align: right;\n",
       "    }\n",
       "</style>\n",
       "<table border=\"1\" class=\"dataframe\">\n",
       "  <thead>\n",
       "    <tr style=\"text-align: right;\">\n",
       "      <th></th>\n",
       "      <th>打率</th>\n",
       "      <th>出塁率</th>\n",
       "      <th>長打率</th>\n",
       "      <th>犠打</th>\n",
       "      <th>盗塁</th>\n",
       "      <th>本塁打</th>\n",
       "    </tr>\n",
       "  </thead>\n",
       "  <tbody>\n",
       "    <tr>\n",
       "      <th>0</th>\n",
       "      <td>357.863697</td>\n",
       "      <td>560.165706</td>\n",
       "      <td>492.914888</td>\n",
       "      <td>-0.07368</td>\n",
       "      <td>0.460489</td>\n",
       "      <td>1.113879</td>\n",
       "    </tr>\n",
       "  </tbody>\n",
       "</table>\n",
       "</div>"
      ],
      "text/plain": [
       "           打率         出塁率         長打率       犠打        盗塁       本塁打\n",
       "0  357.863697  560.165706  492.914888 -0.07368  0.460489  1.113879"
      ]
     },
     "metadata": {},
     "output_type": "display_data"
    }
   ],
   "source": [
    "from sklearn.linear_model import RidgeCV, LassoCV, ElasticNetCV\n",
    "\n",
    "alphas = np.logspace(-3, 2, num=30)\n",
    "\n",
    "\n",
    "for model_obj in [RidgeCV, LassoCV, ElasticNetCV]:\n",
    "    print(\"********* model:\", model_obj.__name__, \"************\")\n",
    "    model_ = model_obj(alphas=alphas)\n",
    "    model_.fit(x_train, y_train)\n",
    "    y_pred_ = model_.predict(x_test)\n",
    "\n",
    "    print(\"rmse:\", rmse(y_pred_, y_test))\n",
    "\n",
    "    display(pd.DataFrame([model_.coef_], columns=x_cols))"
   ]
  },
  {
   "cell_type": "markdown",
   "metadata": {},
   "source": [
    "RVM予測結果の図示"
   ]
  },
  {
   "cell_type": "code",
   "execution_count": 15,
   "metadata": {
    "ExecuteTime": {
     "end_time": "2018-05-16T08:46:28.547586Z",
     "start_time": "2018-05-16T08:46:28.362709Z"
    }
   },
   "outputs": [
    {
     "data": {
      "text/plain": [
       "[<matplotlib.lines.Line2D at 0x7fbb5003bcc0>]"
      ]
     },
     "execution_count": 15,
     "metadata": {},
     "output_type": "execute_result"
    },
    {
     "data": {
      "image/png": "[encoded data removed]",
      "text/plain": [
       "<Figure size 720x720 with 1 Axes>"
      ]
     },
     "metadata": {},
     "output_type": "display_data"
    }
   ],
   "source": [
    "plt.figure(figsize=(10, 10))\n",
    "ax = sns.regplot('y_pred', 'y_true', pd.DataFrame({\"y_true\":y_test, \"y_pred\": y_pred}), ci=None, label='RVM')\n",
    "ax.legend(loc=\"best\")\n",
    "plt.plot(np.arange(400, 750), np.arange(400, 750), color='k')"
   ]
  },
  {
   "cell_type": "markdown",
   "metadata": {},
   "source": [
    "最後に、今シーズンのデータで予測を行ってみた。  \n",
    "\n",
    "今季はどのチームも、出塁率や長打率の割に効率よく得点出来ている？"
   ]
  },
  {
   "cell_type": "code",
   "execution_count": 16,
   "metadata": {
    "ExecuteTime": {
     "end_time": "2018-05-16T08:46:28.804596Z",
     "start_time": "2018-05-16T08:46:28.548896Z"
    }
   },
   "outputs": [
    {
     "data": {
      "text/plain": [
       "[<matplotlib.lines.Line2D at 0x7fbb4218c438>]"
      ]
     },
     "execution_count": 16,
     "metadata": {},
     "output_type": "execute_result"
    },
    {
     "data": {
      "image/png": "[encoded data removed]",
      "text/plain": [
       "<Figure size 432x288 with 1 Axes>"
      ]
     },
     "metadata": {},
     "output_type": "display_data"
    }
   ],
   "source": [
    "y_pred_2018 = model.predict(df_2018[x_cols])\n",
    "\n",
    "\n",
    "df_res = pd.DataFrame({\"RVMによる予測値(1試合あたり)\": y_pred_2018 / 143, \"得点(1試合あたり)\" : df_2018['得点(1試合あたり)']})\n",
    "\n",
    "sns.regplot(x='RVMによる予測値(1試合あたり)', y='得点(1試合あたり)', data=df_res)\n",
    "\n",
    "plt.plot(np.arange(2, 7), np.arange(2, 7), color='k')"
   ]
  }
 ],
 "metadata": {
  "kernelspec": {
   "display_name": "Python 3",
   "language": "python",
   "name": "python3"
  },
  "language_info": {
   "codemirror_mode": {
    "name": "ipython",
    "version": 3
   },
   "file_extension": ".py",
   "mimetype": "text/x-python",
   "name": "python",
   "nbconvert_exporter": "python",
   "pygments_lexer": "ipython3",
   "version": "3.6.5"
  },
  "toc": {
   "nav_menu": {},
   "number_sections": true,
   "sideBar": true,
   "skip_h1_title": false,
   "toc_cell": true,
   "toc_position": {},
   "toc_section_display": "block",
   "toc_window_display": true
  }
 },
 "nbformat": 4,
 "nbformat_minor": 2
}
